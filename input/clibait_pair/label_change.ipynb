{
 "cells": [
  {
   "cell_type": "code",
   "execution_count": 1,
   "metadata": {},
   "outputs": [],
   "source": [
    "import glob\n",
    "import pandas as pd"
   ]
  },
  {
   "cell_type": "code",
   "execution_count": 3,
   "metadata": {},
   "outputs": [],
   "source": [
    "paths = glob.glob(\"./*.xlsx\")\n",
    "for path in paths:\n",
    "    one_df = pd.read_excel(path, engine='openpyxl')\n",
    "    one_df = one_df.replace({'Label' : 0}, 'real') \n",
    "    one_df = one_df.replace({'Label' : 1}, 'fake')\n",
    "    one_df = one_df.astype(str)\n",
    "    one_df.to_excel(path)"
   ]
  },
  {
   "cell_type": "code",
   "execution_count": null,
   "metadata": {},
   "outputs": [],
   "source": [
    "paths = glob.glob(\"./*.xlsx\")\n",
    "for path in paths:\n",
    "    one_df = pd.read_excel(path, engine='openpyxl')\n",
    "    one_df = one_df.dropna(axis=0)\n",
    "    one_df.to_excel(path, index=False)"
   ]
  },
  {
   "cell_type": "code",
   "execution_count": 3,
   "metadata": {},
   "outputs": [],
   "source": [
    "paths = glob.glob(\"./*.csv\")\n",
    "for path in paths:\n",
    "    one_df = pd.read_csv(path)\n",
    "    one_df = one_df.astype(str)\n",
    "    one_df.to_csv(path, index=False)"
   ]
  },
  {
   "cell_type": "code",
   "execution_count": 2,
   "metadata": {},
   "outputs": [],
   "source": [
    "paths = glob.glob(\"./*.csv\")\n",
    "for path in paths:\n",
    "    one_df = pd.read_csv(path)\n",
    "    one_df = one_df.dropna(axis=0)\n",
    "    one_df.to_csv(path, index=False)"
   ]
  }
 ],
 "metadata": {
  "kernelspec": {
   "display_name": "base",
   "language": "python",
   "name": "python3"
  },
  "language_info": {
   "codemirror_mode": {
    "name": "ipython",
    "version": 3
   },
   "file_extension": ".py",
   "mimetype": "text/x-python",
   "name": "python",
   "nbconvert_exporter": "python",
   "pygments_lexer": "ipython3",
   "version": "3.10.14"
  }
 },
 "nbformat": 4,
 "nbformat_minor": 2
}
