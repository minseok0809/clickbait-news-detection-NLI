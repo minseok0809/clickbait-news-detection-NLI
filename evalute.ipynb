{
 "cells": [
  {
   "cell_type": "code",
   "execution_count": 7,
   "metadata": {},
   "outputs": [],
   "source": [
    "import pandas as pd\n",
    "from sklearn.metrics import accuracy_score, precision_score, recall_score, f1_score, classification_report"
   ]
  },
  {
   "cell_type": "markdown",
   "metadata": {},
   "source": [
    "## Klue/Roberta-Small Epoch 1"
   ]
  },
  {
   "cell_type": "code",
   "execution_count": 13,
   "metadata": {},
   "outputs": [
    {
     "name": "stdout",
     "output_type": "stream",
     "text": [
      "2024-05-01 07:54:45.071537: I tensorflow/core/platform/cpu_feature_guard.cc:210] This TensorFlow binary is optimized to use available CPU instructions in performance-critical operations.\n",
      "To enable the following instructions: AVX2 FMA, in other operations, rebuild TensorFlow with the appropriate compiler flags.\n",
      "2024-05-01 07:54:45.782039: W tensorflow/compiler/tf2tensorrt/utils/py_utils.cc:38] TF-TRT Warning: Could not find TensorRT\n",
      "Using the `WANDB_DISABLED` environment variable is deprecated and will be removed in v5. Use the --report_to flag to control the integrations used for logging result (for instance --report_to none).\n",
      "######### Loading test dataset #########\n",
      "#### Test dataset length : 18210 ####\n",
      "#### Tokenized dataset !!! ####\n",
      "Running tokenizer on test dataset (num_proc=4): 100%|█| 18210/18210 [00:01<00:00\n",
      "100%|█████████████████████████████████████████| 143/143 [00:56<00:00,  2.52it/s]\n"
     ]
    }
   ],
   "source": [
    "import os\n",
    "os.environ[\"CUDA_DEVICE_ORDER\"]=\"PCI_BUS_ID\"\n",
    "os.environ[\"CUDA_VISIBLE_DEVICES\"]=\"1\"\n",
    "os.environ[\"NCCL_P2P_DISABLE\"]=\"0\"\n",
    "os.environ[\"NCCL_IB_DISABLE\"]=\"0\"\n",
    "os.environ['WANDB_DISABLED'] = 'true'\n",
    "\n",
    "!python inference.py \\\n",
    "--output_dir output/log/Roberta_Small_01 \\\n",
    "--overwrite_output_dir True \\\n",
    "--k_fold 0 \\\n",
    "--model_name_or_path klue/roberta-small \\\n",
    "--test_dataset_path 'fake_small/test_dataset_special_01.xlsx' \\\n",
    "--save_path output/log/Roberta_Small_01/checkpoint-570 \\\n",
    "--output_name Roberta_Small_01.csv \\\n",
    "--per_device_eval_batch_size 128 \\\n",
    "--do_predict True"
   ]
  },
  {
   "cell_type": "code",
   "execution_count": 14,
   "metadata": {},
   "outputs": [
    {
     "name": "stdout",
     "output_type": "stream",
     "text": [
      "              precision    recall  f1-score   support\n",
      "\n",
      "        fake       0.99      0.96      0.97      9128\n",
      "        real       0.96      0.99      0.97      9082\n",
      "\n",
      "    accuracy                           0.97     18210\n",
      "   macro avg       0.97      0.97      0.97     18210\n",
      "weighted avg       0.97      0.97      0.97     18210\n",
      "\n"
     ]
    }
   ],
   "source": [
    "df = pd.read_csv(\"output/Roberta_Small_01.csv\")\n",
    "prediction = list(df['label'])\n",
    "\n",
    "df = pd.read_excel(\"input/fake_small/test_dataset_special_01.xlsx\", engine='openpyxl')\n",
    "# df = pd.read_excel(\"input/fake_small/test_dataset_not_special.xlsx\", engine='openpyxl')\n",
    "labels = list(df['Label'])\n",
    "\n",
    "accuracy = accuracy_score(labels, prediction)\n",
    "precision = precision_score(labels, prediction, average=\"binary\", pos_label='real') \n",
    "recall = recall_score(labels, prediction, average=\"binary\", pos_label='real') \n",
    "f1 = f1_score(labels, prediction, average=\"binary\", pos_label='real') \n",
    "print(classification_report(labels, prediction))"
   ]
  },
  {
   "cell_type": "markdown",
   "metadata": {},
   "source": [
    "## Klue/Roberta-Small Epoch 2"
   ]
  },
  {
   "cell_type": "code",
   "execution_count": 16,
   "metadata": {},
   "outputs": [
    {
     "name": "stdout",
     "output_type": "stream",
     "text": [
      "              precision    recall  f1-score   support\n",
      "\n",
      "        fake       0.99      1.00      0.99      9128\n",
      "        real       1.00      0.99      0.99      9082\n",
      "\n",
      "    accuracy                           0.99     18210\n",
      "   macro avg       0.99      0.99      0.99     18210\n",
      "weighted avg       0.99      0.99      0.99     18210\n",
      "\n"
     ]
    }
   ],
   "source": [
    "df = pd.read_csv(\"output/Roberta_Small_01.csv\")\n",
    "prediction = list(df['label'])\n",
    "\n",
    "df = pd.read_excel(\"input/fake_small/test_dataset_special_01.xlsx\", engine='openpyxl')\n",
    "# df = pd.read_excel(\"input/fake_small/test_dataset_not_special.xlsx\", engine='openpyxl')\n",
    "labels = list(df['Label'])\n",
    "\n",
    "accuracy = accuracy_score(labels, prediction)\n",
    "precision = precision_score(labels, prediction, average=\"binary\", pos_label='real') \n",
    "recall = recall_score(labels, prediction, average=\"binary\", pos_label='real') \n",
    "f1 = f1_score(labels, prediction, average=\"binary\", pos_label='real') \n",
    "print(classification_report(labels, prediction))"
   ]
  },
  {
   "cell_type": "markdown",
   "metadata": {},
   "source": [
    "## Klue/Roberta-Small Epoch 3"
   ]
  },
  {
   "cell_type": "code",
   "execution_count": 19,
   "metadata": {},
   "outputs": [
    {
     "name": "stdout",
     "output_type": "stream",
     "text": [
      "              precision    recall  f1-score   support\n",
      "\n",
      "        fake       1.00      1.00      1.00      9128\n",
      "        real       1.00      1.00      1.00      9082\n",
      "\n",
      "    accuracy                           1.00     18210\n",
      "   macro avg       1.00      1.00      1.00     18210\n",
      "weighted avg       1.00      1.00      1.00     18210\n",
      "\n"
     ]
    }
   ],
   "source": [
    "df = pd.read_csv(\"output/Roberta_Small_01.csv\")\n",
    "prediction = list(df['label'])\n",
    "\n",
    "df = pd.read_excel(\"input/fake_small/test_dataset_special_01.xlsx\", engine='openpyxl')\n",
    "# df = pd.read_excel(\"input/fake_small/test_dataset_not_special.xlsx\", engine='openpyxl')\n",
    "labels = list(df['Label'])\n",
    "\n",
    "accuracy = accuracy_score(labels, prediction)\n",
    "precision = precision_score(labels, prediction, average=\"binary\", pos_label='real') \n",
    "recall = recall_score(labels, prediction, average=\"binary\", pos_label='real') \n",
    "f1 = f1_score(labels, prediction, average=\"binary\", pos_label='real') \n",
    "print(classification_report(labels, prediction))"
   ]
  },
  {
   "cell_type": "markdown",
   "metadata": {},
   "source": [
    "## Klue/Roberta-Small + R-Drop Epoch 1"
   ]
  },
  {
   "cell_type": "code",
   "execution_count": 8,
   "metadata": {},
   "outputs": [
    {
     "name": "stdout",
     "output_type": "stream",
     "text": [
      "              precision    recall  f1-score   support\n",
      "\n",
      "        fake       0.99      0.95      0.97      9128\n",
      "        real       0.95      0.99      0.97      9082\n",
      "\n",
      "    accuracy                           0.97     18210\n",
      "   macro avg       0.97      0.97      0.97     18210\n",
      "weighted avg       0.97      0.97      0.97     18210\n",
      "\n"
     ]
    }
   ],
   "source": [
    "df = pd.read_csv(\"output/Roberta_Small_rdrop_01.csv\")\n",
    "prediction = list(df['label'])\n",
    "\n",
    "df = pd.read_excel(\"input/test_dataset_special_01.xlsx\", engine='openpyxl')\n",
    "# df = pd.read_excel(\"input/test_dataset_not_special.xlsx\", engine='openpyxl')\n",
    "labels = list(df['Label'])\n",
    "\n",
    "accuracy = accuracy_score(labels, prediction)\n",
    "precision = precision_score(labels, prediction, average=\"binary\", pos_label='real') \n",
    "recall = recall_score(labels, prediction, average=\"binary\", pos_label='real') \n",
    "f1 = f1_score(labels, prediction, average=\"binary\", pos_label='real') \n",
    "print(classification_report(labels, prediction))"
   ]
  },
  {
   "cell_type": "markdown",
   "metadata": {},
   "source": [
    "## Klue/Roberta-Small + R-Drop Epoch 2"
   ]
  },
  {
   "cell_type": "code",
   "execution_count": 10,
   "metadata": {},
   "outputs": [
    {
     "name": "stdout",
     "output_type": "stream",
     "text": [
      "              precision    recall  f1-score   support\n",
      "\n",
      "        fake       0.99      0.99      0.99      9128\n",
      "        real       0.99      0.99      0.99      9082\n",
      "\n",
      "    accuracy                           0.99     18210\n",
      "   macro avg       0.99      0.99      0.99     18210\n",
      "weighted avg       0.99      0.99      0.99     18210\n",
      "\n"
     ]
    }
   ],
   "source": [
    "df = pd.read_csv(\"output/Roberta_Small_rdrop_01.csv\")\n",
    "prediction = list(df['label'])\n",
    "\n",
    "df = pd.read_excel(\"input/test_dataset_special_01.xlsx\", engine='openpyxl')\n",
    "# df = pd.read_excel(\"input/test_dataset_not_special.xlsx\", engine='openpyxl')\n",
    "labels = list(df['Label'])\n",
    "\n",
    "accuracy = accuracy_score(labels, prediction)\n",
    "precision = precision_score(labels, prediction, average=\"binary\", pos_label='real') \n",
    "recall = recall_score(labels, prediction, average=\"binary\", pos_label='real') \n",
    "f1 = f1_score(labels, prediction, average=\"binary\", pos_label='real') \n",
    "print(classification_report(labels, prediction))"
   ]
  },
  {
   "cell_type": "markdown",
   "metadata": {},
   "source": [
    "## Klue/Roberta-Small + R-Drop Epoch 3"
   ]
  },
  {
   "cell_type": "code",
   "execution_count": 12,
   "metadata": {},
   "outputs": [
    {
     "name": "stdout",
     "output_type": "stream",
     "text": [
      "              precision    recall  f1-score   support\n",
      "\n",
      "        fake       1.00      0.99      1.00      9128\n",
      "        real       0.99      1.00      1.00      9082\n",
      "\n",
      "    accuracy                           1.00     18210\n",
      "   macro avg       1.00      1.00      1.00     18210\n",
      "weighted avg       1.00      1.00      1.00     18210\n",
      "\n"
     ]
    }
   ],
   "source": [
    "df = pd.read_csv(\"output/Roberta_Small_rdrop_01.csv\")\n",
    "prediction = list(df['label'])\n",
    "\n",
    "df = pd.read_excel(\"input/test_dataset_special_01.xlsx\", engine='openpyxl')\n",
    "# df = pd.read_excel(\"input/test_dataset_not_special.xlsx\", engine='openpyxl')\n",
    "labels = list(df['Label'])\n",
    "\n",
    "accuracy = accuracy_score(labels, prediction)\n",
    "precision = precision_score(labels, prediction, average=\"binary\", pos_label='real') \n",
    "recall = recall_score(labels, prediction, average=\"binary\", pos_label='real') \n",
    "f1 = f1_score(labels, prediction, average=\"binary\", pos_label='real') \n",
    "print(classification_report(labels, prediction))"
   ]
  }
 ],
 "metadata": {
  "kernelspec": {
   "display_name": "base",
   "language": "python",
   "name": "python3"
  },
  "language_info": {
   "codemirror_mode": {
    "name": "ipython",
    "version": 3
   },
   "file_extension": ".py",
   "mimetype": "text/x-python",
   "name": "python",
   "nbconvert_exporter": "python",
   "pygments_lexer": "ipython3",
   "version": "3.10.14"
  }
 },
 "nbformat": 4,
 "nbformat_minor": 2
}
